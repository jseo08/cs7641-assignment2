{
 "cells": [
  {
   "cell_type": "code",
   "execution_count": 8,
   "id": "f267b1d5",
   "metadata": {},
   "outputs": [],
   "source": [
    "import mlrose_hiive\n",
    "import numpy as np\n",
    "import pandas as pd\n",
    "np.random.seed(44)\n",
    "\n",
    "def getFitnessInfo(runStats):\n",
    "    lastIteration = runStats[runStats.Iteration != 0].reset_index()\n",
    "    fitnessMean = lastIteration.Fitness.mean()\n",
    "    fitnessMax = lastIteration.Fitness.max()\n",
    "    maxTime = lastIteration.Time.max()\n",
    "    meanTime = lastIteration.Time.mean()\n",
    "    print('fitnessMax: ', fitnessMax)\n",
    "    print('fitnessMean: ', fitnessMean)\n",
    "    print('maxTime: ', maxTime, 'sec')\n",
    "    print('meanTime: ', meanTime, 'sec')\n",
    "\n",
    "def plotFitness(algoValue, title, xLabel, yLabel):\n",
    "    bestCurve = algoValue['bestCurve']\n",
    "    ax = bestCurve.Fitness.plot(marker='.', markersize=2, figsize=(10,10), grid=1, title=title)\n",
    "    ax.set_ylabel(yLabel)\n",
    "    ax.set_xlabel(xLabel)\n",
    "    return ax\n",
    "\n",
    "def getBestValues(curves, algo):\n",
    "    value = {}\n",
    "    bestIndexCurve = curves.Fitness.idxmax()\n",
    "    if(algo == \"sa\"):\n",
    "        bestDecay = curves.iloc[bestIndexCurve].Temperature\n",
    "        bestCurve = curves.loc[curves.Temperature == bestDecay, :]\n",
    "    elif(algo == \"rhc\"):\n",
    "        bestDecay = curves.iloc[bestIndexCurve].current_restart\n",
    "        bestCurve = curves.loc[curves.current_restart == bestDecay, :]\n",
    "        \n",
    "    bestCurve.reset_index(inplace=True)\n",
    "    value['bestCurve'] = bestCurve\n",
    "    value['bestDecay'] = bestDecay\n",
    "    return value\n",
    "\n",
    "def getFitnessByFeatures(runStats, algo):\n",
    "    lastIteration = runStats[runStats.Iteration != 0].reset_index()\n",
    "    \n",
    "    print(\"Overall Max Fitness: \", lastIteration.Fitness.max())\n",
    "    print(\"Overall Mean Fitness: \", lastIteration.Fitness.mean())\n",
    "    print(\"Overall Max Time: \", lastIteration.Time.max())\n",
    "    print(\"Overall Mean Time: \", lastIteration.Time.mean())\n",
    "    \n",
    "    print('==========================================')\n",
    "    \n",
    "    if(algo == \"ga\"):\n",
    "        mutationRateFitnessMean = lastIteration.groupby(\"Mutation Rate\").Fitness.mean()\n",
    "        populationSizeFitnessMean = lastIteration.groupby(\"Population Size\").Fitness.mean()\n",
    "        populationSizeTimeMean = lastIteration.groupby(\"Population Size\").Time.mean() \n",
    "        print('MR      Mean Fitness:       ', mutationRateFitnessMean)\n",
    "\n",
    "    elif(algo == \"mimic\"):\n",
    "        keepPercentFitnessMean = lastIteration.groupby(\"Keep Percent\").Fitness.mean()\n",
    "        populationSizeFitnessMean = lastIteration.groupby(\"Population Size\").Fitness.mean()\n",
    "        populationSizeTimeMean = lastIteration.groupby(\"Population Size\").Time.mean()\n",
    "        print('keep%      Mean Fitness:       ', keepPercentFitnessMean)\n",
    "\n",
    "    print('PS      Mean Fitness:      ', populationSizeFitnessMean)\n",
    "    print('PS      Mean Time:      ', populationSizeTimeMean)"
   ]
  },
  {
   "cell_type": "code",
   "execution_count": 2,
   "id": "b98feaaa",
   "metadata": {},
   "outputs": [],
   "source": [
    "bits = 100\n",
    "flipFlopProblem = mlrose_hiive.FlipFlopOpt(length=bits)"
   ]
  },
  {
   "cell_type": "code",
   "execution_count": 5,
   "id": "9a80bfe9",
   "metadata": {},
   "outputs": [
    {
     "name": "stdout",
     "output_type": "stream",
     "text": [
      "fitnessMax:  87.0\n",
      "fitnessMean:  79.82178217821782\n",
      "maxTime:  262.428596361 sec\n",
      "meanTime:  87.61704040404952 sec\n",
      "CPU times: user 4min 19s, sys: 2.15 s, total: 4min 21s\n",
      "Wall time: 4min 22s\n"
     ]
    },
    {
     "data": {
      "text/plain": [
       "<AxesSubplot:title={'center':'Fitness vs Iteration'}, xlabel='Iterations', ylabel='Fitness Value'>"
      ]
     },
     "execution_count": 5,
     "metadata": {},
     "output_type": "execute_result"
    },
    {
     "data": {
      "image/png": "[encoded data removed]",
      "text/plain": [
       "<Figure size 720x720 with 1 Axes>"
      ]
     },
     "metadata": {
      "needs_background": "light"
     },
     "output_type": "display_data"
    }
   ],
   "source": [
    "%%time\n",
    "##Random Hill Climb\n",
    "rhc = mlrose_hiive.RHCRunner(flipFlopProblem, experiment_name=\"RCH_final\", iteration_list=[1000],\n",
    "                                       seed=44, max_attempts=100, \n",
    "                                       restart_list=[100])\n",
    "\n",
    "rhcRunStats, rhcRunCurves = rhc.run()\n",
    "rhcVal = getBestValues(rhcRunCurves, 'rhc')\n",
    "\n",
    "getFitnessInfo(rhcRunStats)\n",
    "plotFitness(rhcVal, \"Fitness vs Iteration\",\"Iterations\", \"Fitness Value\")"
   ]
  },
  {
   "cell_type": "code",
   "execution_count": 11,
   "id": "762cca83",
   "metadata": {},
   "outputs": [
    {
     "name": "stdout",
     "output_type": "stream",
     "text": [
      "Best Decay {'bestCurve':       index  Iteration      Time  Fitness  FEvals Temperature  max_iters\n",
      "0         0          0  0.000703     45.0     0.0           1       1000\n",
      "1         1          1  0.003743     45.0     1.0           1       1000\n",
      "2         2          2  0.004340     47.0     3.0           1       1000\n",
      "3         3          3  0.004923     47.0     5.0           1       1000\n",
      "4         4          4  0.005503     47.0     7.0           1       1000\n",
      "...     ...        ...       ...      ...     ...         ...        ...\n",
      "996     996        996  0.602337     92.0  1273.0           1       1000\n",
      "997     997        997  0.603079     92.0  1274.0           1       1000\n",
      "998     998        998  0.603811     92.0  1275.0           1       1000\n",
      "999     999        999  0.604761     92.0  1277.0           1       1000\n",
      "1000   1000       1000  0.605499     92.0  1278.0           1       1000\n",
      "\n",
      "[1001 rows x 7 columns], 'bestDecay': GeomDecay(init_temp=1, decay=0.99, min_temp=0.001)}\n",
      "fitnessMax:  92.0\n",
      "fitnessMean:  80.75\n",
      "maxTime:  0.7268985430018802 sec\n",
      "meanTime:  0.6318646353124677 sec\n",
      "CPU times: user 10.4 s, sys: 98 ms, total: 10.5 s\n",
      "Wall time: 10.4 s\n"
     ]
    },
    {
     "data": {
      "text/plain": [
       "<AxesSubplot:title={'center':'Fitness vs Iterations (SA)'}, xlabel='Iterations', ylabel='Fitness'>"
      ]
     },
     "execution_count": 11,
     "metadata": {},
     "output_type": "execute_result"
    },
    {
     "data": {
      "image/png": "[encoded data removed]",
      "text/plain": [
       "<Figure size 720x720 with 1 Axes>"
      ]
     },
     "metadata": {
      "needs_background": "light"
     },
     "output_type": "display_data"
    }
   ],
   "source": [
    "%%time\n",
    "##Simulated Annealing\n",
    "sa = mlrose_hiive.SARunner(flipFlopProblem, experiment_name=\"SA_final\", iteration_list=[1000],\n",
    "                           temperature_list=[1, 10, 25, 50, 100, 200, 500, 1000], decay_list=[mlrose_hiive.GeomDecay, mlrose_hiive.ExpDecay], seed=44, max_attempts=100)\n",
    "\n",
    "saRunStats, saRunCurves = sa.run()\n",
    "saVal = getBestValues(saRunCurves, 'sa')\n",
    "print(\"Best Decay\", saVal)\n",
    "\n",
    "getFitnessInfo(saRunStats)\n",
    "plotFitness(saVal, 'Fitness vs Iterations (SA)', 'Iterations', 'Fitness')"
   ]
  },
  {
   "cell_type": "code",
   "execution_count": 6,
   "id": "9bd1499d",
   "metadata": {},
   "outputs": [
    {
     "name": "stdout",
     "output_type": "stream",
     "text": [
      "Overall Max Fitness:  99.0\n",
      "Overall Mean Fitness:  94.41666666666667\n",
      "Overall Max Time:  9.292162370000028\n",
      "Overall Mean Time:  4.008253766749998\n",
      "==========================================\n",
      "MR      Mean Fitness:        Mutation Rate\n",
      "0.10    93.666667\n",
      "0.25    93.666667\n",
      "0.50    95.333333\n",
      "0.90    95.000000\n",
      "Name: Fitness, dtype: float64\n",
      "PS      Mean Fitness:       Population Size\n",
      "100     90.50\n",
      "500     95.00\n",
      "1000    97.75\n",
      "Name: Fitness, dtype: float64\n",
      "PS      Mean Time:       Population Size\n",
      "100     0.871651\n",
      "500     3.820347\n",
      "1000    7.332763\n",
      "Name: Time, dtype: float64\n",
      "CPU times: user 47.7 s, sys: 247 ms, total: 48 s\n",
      "Wall time: 48.2 s\n"
     ]
    }
   ],
   "source": [
    "%%time\n",
    "##Genetic Algorithm\n",
    "ga = mlrose_hiive.GARunner(flipFlopProblem, experiment_name='GA_final', iteration_list=[1000], \n",
    "                           population_sizes=[100, 500, 1000], mutation_rates=[0.1, 0.25, 0.5, 0.9], \n",
    "                           seed=44, max_attempts=100)\n",
    "\n",
    "gaRunStats, gaRunCurves = ga.run()\n",
    "getFitnessByFeatures(gaRunStats, 'ga')"
   ]
  },
  {
   "cell_type": "code",
   "execution_count": 9,
   "id": "ef802904",
   "metadata": {},
   "outputs": [
    {
     "name": "stdout",
     "output_type": "stream",
     "text": [
      "Overall Max Fitness:  95.0\n",
      "Overall Mean Fitness:  84.875\n",
      "Overall Max Time:  37.077477603000034\n",
      "Overall Mean Time:  14.455845337874962\n",
      "==========================================\n",
      "keep%      Mean Fitness:        Keep Percent\n",
      "0.10    84.5\n",
      "0.25    86.5\n",
      "0.50    86.5\n",
      "0.90    82.0\n",
      "Name: Fitness, dtype: float64\n",
      "PS      Mean Fitness:       Population Size\n",
      "100    79.25\n",
      "500    90.50\n",
      "Name: Fitness, dtype: float64\n",
      "PS      Mean Time:       Population Size\n",
      "100     5.354884\n",
      "500    23.556807\n",
      "Name: Time, dtype: float64\n",
      "CPU times: user 1min 35s, sys: 19.4 s, total: 1min 54s\n",
      "Wall time: 1min 55s\n"
     ]
    }
   ],
   "source": [
    "%%time\n",
    "##Mimic Algorithm\n",
    "mimic = mlrose_hiive.MIMICRunner(flipFlopProblem, experiment_name='MIMIC_final', iteration_list=[1000], use_fast_mimic=True,\n",
    "                                population_sizes=[100,500], keep_percent_list=[0.1, 0.25, 0.5, 0.9],\n",
    "                                seed=44, max_attempts=100)\n",
    "\n",
    "mimicRunStats, mimicRunCurves = mimic.run()\n",
    "getFitnessByFeatures(mimicRunStats, 'mimic')"
   ]
  }
 ],
 "metadata": {
  "kernelspec": {
   "display_name": "Python 3",
   "language": "python",
   "name": "python3"
  },
  "language_info": {
   "codemirror_mode": {
    "name": "ipython",
    "version": 3
   },
   "file_extension": ".py",
   "mimetype": "text/x-python",
   "name": "python",
   "nbconvert_exporter": "python",
   "pygments_lexer": "ipython3",
   "version": "3.8.8"
  }
 },
 "nbformat": 4,
 "nbformat_minor": 5
}
